{
  "nbformat": 4,
  "nbformat_minor": 0,
  "metadata": {
    "colab": {
      "provenance": []
    },
    "kernelspec": {
      "name": "python3",
      "display_name": "Python 3"
    },
    "language_info": {
      "name": "python"
    }
  },
  "cells": [
    {
      "cell_type": "markdown",
      "source": [
        "1. What is a RESTful API?\n",
        " - A RESTful API follows REST architecture, using HTTP methods like GET, POST, PUT, DELETE. It treats every resource as a URL and operations are stateless, meaning each request contains all the information needed. REST APIs are simple, scalable, and widely used for web and mobile services.\n",
        "\n",
        "2. Explain the concept of API specification.\n",
        " - An API specification is a formal document that defines how an API behaves. It lists endpoints, HTTP methods, input/output formats, and authentication rules. Specifications like OpenAPI or Swagger help developers understand, test, and use APIs without needing to see the source code.\n",
        "\n",
        " 3. What is Flask, and why is it popular for building APIs?\n",
        " - Flask is a lightweight Python web framework ideal for small to medium applications. It is easy to learn, highly customizable, and has a minimalistic core. Flask’s simplicity and extensions like Flask-RESTful make it very popular for building RESTful APIs quickly.\n",
        "\n",
        " 4. What is routing in Flask?\n",
        " - Routing in Flask connects specific URLs to functions called view functions using the @app.route() decorator. When a request is made to a URL, Flask runs the corresponding function, making it easy to define the behavior of web pages or API endpoints.\n"
      ],
      "metadata": {
        "id": "yWBalhzVRIS7"
      }
    },
    {
      "cell_type": "code",
      "source": [
        "#5. How do you create a simple Flask application?\n",
        "\n",
        "\n",
        "from flask import Flask\n",
        "app = Flask(__name__)\n",
        "\n",
        "@app.route('/')\n",
        "def home():\n",
        "    return \"Hello, Flask!\""
      ],
      "metadata": {
        "id": "SBCfkf8PRyGU"
      },
      "execution_count": 1,
      "outputs": []
    },
    {
      "cell_type": "markdown",
      "source": [
        "6. What are HTTP methods used in RESTful APIs?\n",
        " - RESTful APIs use methods like:\n",
        "\n",
        "   GET (retrieve data),\n",
        "\n",
        "  POST (create new data),\n",
        "\n",
        "  PUT (update existing data),\n",
        "\n",
        " DELETE (remove data),\n",
        "\n",
        "  PATCH (partial updates).\n",
        " Each method defines a specific action on a resource.\n",
        "\n",
        " 7. What is the purpose of the @app.route() decorator in Flask?\n",
        " - @app.route() tells Flask which function should handle a specific URL path. It maps a route like /hello to a function, allowing Flask to respond to web requests at that path.\n",
        "8. What is the difference between GET and POST HTTP methods?\n",
        " - GET is used to retrieve data and is visible in the URL. It should not alter server state.\n",
        " POST submits data to the server (e.g., form input) and may change the server state. It is more secure for sending sensitive data.\n",
        "\n",
        "\n",
        "\n",
        "\n",
        "\n",
        "\n",
        "\n",
        "\n"
      ],
      "metadata": {
        "id": "tJa3IXoUR9jK"
      }
    },
    {
      "cell_type": "code",
      "source": [
        "#9. How do you handle errors in Flask APIs? Use error handlers to manage issues. For example:\n",
        "\n",
        "@app.errorhandler(404)\n",
        "def not_found(error):\n",
        "    return {\"error\": \"Not found\"}, 404"
      ],
      "metadata": {
        "id": "Az-RQtgxR1eC"
      },
      "execution_count": 2,
      "outputs": []
    },
    {
      "cell_type": "code",
      "source": [
        "#10. How do you connect Flask to a SQL database? Use Flask-SQLAlchemy:\n",
        "\n",
        "app.config['SQLALCHEMY_DATABASE_URI'] = 'sqlite:///data.db'\n",
        "db = SQLAlchemy(app)\n"
      ],
      "metadata": {
        "colab": {
          "base_uri": "https://localhost:8080/",
          "height": 176
        },
        "id": "e9PHYLr8TCgI",
        "outputId": "79f5dc1d-6566-4241-bca3-7035b611a789"
      },
      "execution_count": 4,
      "outputs": [
        {
          "output_type": "error",
          "ename": "NameError",
          "evalue": "name 'SQLAlchemy' is not defined",
          "traceback": [
            "\u001b[0;31m---------------------------------------------------------------------------\u001b[0m",
            "\u001b[0;31mNameError\u001b[0m                                 Traceback (most recent call last)",
            "\u001b[0;32m<ipython-input-4-a68c44fa942e>\u001b[0m in \u001b[0;36m<cell line: 0>\u001b[0;34m()\u001b[0m\n\u001b[1;32m      2\u001b[0m \u001b[0;34m\u001b[0m\u001b[0m\n\u001b[1;32m      3\u001b[0m \u001b[0mapp\u001b[0m\u001b[0;34m.\u001b[0m\u001b[0mconfig\u001b[0m\u001b[0;34m[\u001b[0m\u001b[0;34m'SQLALCHEMY_DATABASE_URI'\u001b[0m\u001b[0;34m]\u001b[0m \u001b[0;34m=\u001b[0m \u001b[0;34m'sqlite:///data.db'\u001b[0m\u001b[0;34m\u001b[0m\u001b[0;34m\u001b[0m\u001b[0m\n\u001b[0;32m----> 4\u001b[0;31m \u001b[0mdb\u001b[0m \u001b[0;34m=\u001b[0m \u001b[0mSQLAlchemy\u001b[0m\u001b[0;34m(\u001b[0m\u001b[0mapp\u001b[0m\u001b[0;34m)\u001b[0m\u001b[0;34m\u001b[0m\u001b[0;34m\u001b[0m\u001b[0m\n\u001b[0m",
            "\u001b[0;31mNameError\u001b[0m: name 'SQLAlchemy' is not defined"
          ]
        }
      ]
    },
    {
      "cell_type": "markdown",
      "source": [
        "11. What is the role of Flask-SQLAlchemy?\n",
        " - Flask-SQLAlchemy integrates SQLAlchemy ORM with Flask. It simplifies database operations by allowing you to define models as Python classes and interact with the database using object-oriented syntax instead of raw SQL.\n",
        "\n",
        "12. What are Flask blueprints, and how are they useful?\n",
        " - Blueprints let you structure large Flask apps by grouping related views and code. You can register multiple blueprints to the main app, promoting modularity and reusability in routes, templates, and static files.\n",
        "\n",
        "13. What is the purpose of Flask’s request object?\n",
        " - request represents the incoming HTTP request. It provides access to data like form inputs, JSON payloads, headers, and URL parameters. Example: request.form['name'] retrieves a form field value."
      ],
      "metadata": {
        "id": "QziX7-5PTT8K"
      }
    },
    {
      "cell_type": "code",
      "source": [
        "#14. How do you create a RESTful API endpoint using Flask?Define a route and return JSON:\n",
        "\n",
        "\n",
        "@app.route('/api', methods=['GET'])\n",
        "def api():\n",
        "    return jsonify({\"message\": \"Hello API\"})"
      ],
      "metadata": {
        "id": "ob-CLObATfya"
      },
      "execution_count": 5,
      "outputs": []
    },
    {
      "cell_type": "markdown",
      "source": [
        "15. What is the purpose of Flask’s jsonify() function?\n",
        " - jsonify() converts Python dictionaries into JSON responses. It sets the correct content type (application/json) and formats the output properly, making it ideal for APIs.\n",
        "\n",
        "16. Explain Flask’s url_for() function.\n",
        " - url_for() dynamically generates URLs for a given function name. It prevents hardcoding URLs and makes redirection and linking easier. Example: url_for('home') returns '/' if home() is the view function.\n",
        "\n",
        "17. How does Flask handle static files (CSS, JavaScript, etc.)?\n",
        " - Flask serves static files from the static/ folder. You can access them in HTML using:\n",
        "<link rel=\"stylesheet\" href=\"{{ url_for('static', filename='style.css') }}\">\n",
        "This ensures correct file paths and caching.\n",
        "\n",
        "18. What is an API specification, and how does it help in building a Flask API?\n",
        " - API specification is a contract that describes API endpoints, parameters, and responses. In Flask, it helps developers understand what routes to create and how to structure requests/responses. Tools like Swagger use these specs for documentation.\n",
        "\n",
        "19. What are HTTP status codes, and why are they important in a Flask API?\n",
        " - Status codes like 200 (OK), 404 (Not Found), and 500 (Server Error) indicate the result of an API call. They help clients understand if a request was successful or failed and why, improving communication and debugging."
      ],
      "metadata": {
        "id": "OfQf84wqTwyG"
      }
    },
    {
      "cell_type": "code",
      "source": [
        "#20. How do you handle POST requests in Flask?Use request.form or request.json inside a POST route:\n",
        "\n",
        "@app.route('/submit', methods=['POST'])\n",
        "def submit():\n",
        "    data = request.form['name']\n",
        "    return f\"Received {data}\""
      ],
      "metadata": {
        "id": "XXB5ZZkKTjJc"
      },
      "execution_count": 6,
      "outputs": []
    },
    {
      "cell_type": "markdown",
      "source": [
        "21. How would you secure a Flask API?\n",
        " - Use HTTPS, input validation, authentication (tokens or OAuth), rate limiting, and Flask extensions like Flask-JWT-Extended. Also, sanitize inputs and handle errors gracefully to prevent injection attacks or data leaks.\n",
        "\n",
        "22. What is the significance of the Flask-RESTful extension?\n",
        " - Flask-RESTful provides tools to quickly build REST APIs using class-based views. It simplifies route handling, request parsing, and response formatting, reducing boilerplate and improving code organization.\n",
        "\n",
        "23. What is the role of Flask’s session object?\n",
        " - The session object stores data across user requests using cookies. It helps manage user-specific data like login states. Data is stored securely and signed to prevent tampering."
      ],
      "metadata": {
        "id": "vK3dedkjUD4f"
      }
    },
    {
      "cell_type": "code",
      "source": [
        "#1. How do you create a basic Flask application?\n",
        "!pip install flask-ngrok\n",
        "from flask import Flask\n",
        "from flask_ngrok import run_with_ngrok\n",
        "\n",
        "app = Flask(__name__)\n",
        "run_with_ngrok(app)\n",
        "\n",
        "@app.route('/')\n",
        "def home():\n",
        "    return \"Hello, Flask!\"\n",
        "\n",
        "app.run()"
      ],
      "metadata": {
        "colab": {
          "base_uri": "https://localhost:8080/"
        },
        "id": "grqsjWodUKb0",
        "outputId": "4396acc0-5480-4790-ad48-ffeaf7e8e000"
      },
      "execution_count": 7,
      "outputs": [
        {
          "output_type": "stream",
          "name": "stdout",
          "text": [
            "Collecting flask-ngrok\n",
            "  Downloading flask_ngrok-0.0.25-py3-none-any.whl.metadata (1.8 kB)\n",
            "Requirement already satisfied: Flask>=0.8 in /usr/local/lib/python3.11/dist-packages (from flask-ngrok) (3.1.1)\n",
            "Requirement already satisfied: requests in /usr/local/lib/python3.11/dist-packages (from flask-ngrok) (2.32.3)\n",
            "Requirement already satisfied: blinker>=1.9.0 in /usr/local/lib/python3.11/dist-packages (from Flask>=0.8->flask-ngrok) (1.9.0)\n",
            "Requirement already satisfied: click>=8.1.3 in /usr/local/lib/python3.11/dist-packages (from Flask>=0.8->flask-ngrok) (8.2.0)\n",
            "Requirement already satisfied: itsdangerous>=2.2.0 in /usr/local/lib/python3.11/dist-packages (from Flask>=0.8->flask-ngrok) (2.2.0)\n",
            "Requirement already satisfied: jinja2>=3.1.2 in /usr/local/lib/python3.11/dist-packages (from Flask>=0.8->flask-ngrok) (3.1.6)\n",
            "Requirement already satisfied: markupsafe>=2.1.1 in /usr/local/lib/python3.11/dist-packages (from Flask>=0.8->flask-ngrok) (3.0.2)\n",
            "Requirement already satisfied: werkzeug>=3.1.0 in /usr/local/lib/python3.11/dist-packages (from Flask>=0.8->flask-ngrok) (3.1.3)\n",
            "Requirement already satisfied: charset-normalizer<4,>=2 in /usr/local/lib/python3.11/dist-packages (from requests->flask-ngrok) (3.4.2)\n",
            "Requirement already satisfied: idna<4,>=2.5 in /usr/local/lib/python3.11/dist-packages (from requests->flask-ngrok) (3.10)\n",
            "Requirement already satisfied: urllib3<3,>=1.21.1 in /usr/local/lib/python3.11/dist-packages (from requests->flask-ngrok) (2.4.0)\n",
            "Requirement already satisfied: certifi>=2017.4.17 in /usr/local/lib/python3.11/dist-packages (from requests->flask-ngrok) (2025.4.26)\n",
            "Downloading flask_ngrok-0.0.25-py3-none-any.whl (3.1 kB)\n",
            "Installing collected packages: flask-ngrok\n",
            "Successfully installed flask-ngrok-0.0.25\n",
            " * Serving Flask app '__main__'\n",
            " * Debug mode: off\n"
          ]
        },
        {
          "output_type": "stream",
          "name": "stderr",
          "text": [
            "INFO:werkzeug:\u001b[31m\u001b[1mWARNING: This is a development server. Do not use it in a production deployment. Use a production WSGI server instead.\u001b[0m\n",
            " * Running on http://127.0.0.1:5000\n",
            "INFO:werkzeug:\u001b[33mPress CTRL+C to quit\u001b[0m\n",
            "Exception in thread Thread-8:\n",
            "Traceback (most recent call last):\n",
            "  File \"/usr/local/lib/python3.11/dist-packages/urllib3/connection.py\", line 198, in _new_conn\n",
            "    sock = connection.create_connection(\n",
            "           ^^^^^^^^^^^^^^^^^^^^^^^^^^^^^\n",
            "  File \"/usr/local/lib/python3.11/dist-packages/urllib3/util/connection.py\", line 85, in create_connection\n",
            "    raise err\n",
            "  File \"/usr/local/lib/python3.11/dist-packages/urllib3/util/connection.py\", line 73, in create_connection\n",
            "    sock.connect(sa)\n",
            "ConnectionRefusedError: [Errno 111] Connection refused\n",
            "\n",
            "The above exception was the direct cause of the following exception:\n",
            "\n",
            "Traceback (most recent call last):\n",
            "  File \"/usr/local/lib/python3.11/dist-packages/urllib3/connectionpool.py\", line 787, in urlopen\n",
            "    response = self._make_request(\n",
            "               ^^^^^^^^^^^^^^^^^^^\n",
            "  File \"/usr/local/lib/python3.11/dist-packages/urllib3/connectionpool.py\", line 493, in _make_request\n",
            "    conn.request(\n",
            "  File \"/usr/local/lib/python3.11/dist-packages/urllib3/connection.py\", line 445, in request\n",
            "    self.endheaders()\n",
            "  File \"/usr/lib/python3.11/http/client.py\", line 1298, in endheaders\n",
            "    self._send_output(message_body, encode_chunked=encode_chunked)\n",
            "  File \"/usr/lib/python3.11/http/client.py\", line 1058, in _send_output\n",
            "    self.send(msg)\n",
            "  File \"/usr/lib/python3.11/http/client.py\", line 996, in send\n",
            "    self.connect()\n",
            "  File \"/usr/local/lib/python3.11/dist-packages/urllib3/connection.py\", line 276, in connect\n",
            "    self.sock = self._new_conn()\n",
            "                ^^^^^^^^^^^^^^^^\n",
            "  File \"/usr/local/lib/python3.11/dist-packages/urllib3/connection.py\", line 213, in _new_conn\n",
            "    raise NewConnectionError(\n",
            "urllib3.exceptions.NewConnectionError: <urllib3.connection.HTTPConnection object at 0x79674022bf10>: Failed to establish a new connection: [Errno 111] Connection refused\n",
            "\n",
            "The above exception was the direct cause of the following exception:\n",
            "\n",
            "Traceback (most recent call last):\n",
            "  File \"/usr/local/lib/python3.11/dist-packages/requests/adapters.py\", line 667, in send\n",
            "    resp = conn.urlopen(\n",
            "           ^^^^^^^^^^^^^\n",
            "  File \"/usr/local/lib/python3.11/dist-packages/urllib3/connectionpool.py\", line 841, in urlopen\n",
            "    retries = retries.increment(\n",
            "              ^^^^^^^^^^^^^^^^^^\n",
            "  File \"/usr/local/lib/python3.11/dist-packages/urllib3/util/retry.py\", line 519, in increment\n",
            "    raise MaxRetryError(_pool, url, reason) from reason  # type: ignore[arg-type]\n",
            "    ^^^^^^^^^^^^^^^^^^^^^^^^^^^^^^^^^^^^^^^^^^^^^^^^^^^\n",
            "urllib3.exceptions.MaxRetryError: HTTPConnectionPool(host='localhost', port=4040): Max retries exceeded with url: /api/tunnels (Caused by NewConnectionError('<urllib3.connection.HTTPConnection object at 0x79674022bf10>: Failed to establish a new connection: [Errno 111] Connection refused'))\n",
            "\n",
            "During handling of the above exception, another exception occurred:\n",
            "\n",
            "Traceback (most recent call last):\n",
            "  File \"/usr/lib/python3.11/threading.py\", line 1045, in _bootstrap_inner\n",
            "    self.run()\n",
            "  File \"/usr/lib/python3.11/threading.py\", line 1401, in run\n",
            "    self.function(*self.args, **self.kwargs)\n",
            "  File \"/usr/local/lib/python3.11/dist-packages/flask_ngrok.py\", line 70, in start_ngrok\n",
            "    ngrok_address = _run_ngrok()\n",
            "                    ^^^^^^^^^^^^\n",
            "  File \"/usr/local/lib/python3.11/dist-packages/flask_ngrok.py\", line 35, in _run_ngrok\n",
            "    tunnel_url = requests.get(localhost_url).text  # Get the tunnel information\n",
            "                 ^^^^^^^^^^^^^^^^^^^^^^^^^^^\n",
            "  File \"/usr/local/lib/python3.11/dist-packages/requests/api.py\", line 73, in get\n",
            "    return request(\"get\", url, params=params, **kwargs)\n",
            "           ^^^^^^^^^^^^^^^^^^^^^^^^^^^^^^^^^^^^^^^^^^^^\n",
            "  File \"/usr/local/lib/python3.11/dist-packages/requests/api.py\", line 59, in request\n",
            "    return session.request(method=method, url=url, **kwargs)\n",
            "           ^^^^^^^^^^^^^^^^^^^^^^^^^^^^^^^^^^^^^^^^^^^^^^^^^\n",
            "  File \"/usr/local/lib/python3.11/dist-packages/requests/sessions.py\", line 589, in request\n",
            "    resp = self.send(prep, **send_kwargs)\n",
            "           ^^^^^^^^^^^^^^^^^^^^^^^^^^^^^^\n",
            "  File \"/usr/local/lib/python3.11/dist-packages/requests/sessions.py\", line 703, in send\n",
            "    r = adapter.send(request, **kwargs)\n",
            "        ^^^^^^^^^^^^^^^^^^^^^^^^^^^^^^^\n",
            "  File \"/usr/local/lib/python3.11/dist-packages/requests/adapters.py\", line 700, in send\n",
            "    raise ConnectionError(e, request=request)\n",
            "requests.exceptions.ConnectionError: HTTPConnectionPool(host='localhost', port=4040): Max retries exceeded with url: /api/tunnels (Caused by NewConnectionError('<urllib3.connection.HTTPConnection object at 0x79674022bf10>: Failed to establish a new connection: [Errno 111] Connection refused'))\n"
          ]
        }
      ]
    },
    {
      "cell_type": "code",
      "source": [
        "#2. How do you serve static files like images or CSS in Flask?\n",
        "\n",
        "from flask import Flask\n",
        "app = Flask(__name__, static_url_path='/static')\n",
        "\n",
        "@app.route('/')\n",
        "def home():\n",
        "    return '<img src=\"/static/sample.png\">'\n",
        "\n"
      ],
      "metadata": {
        "id": "-s9sGYuBUp2E"
      },
      "execution_count": 8,
      "outputs": []
    },
    {
      "cell_type": "code",
      "source": [
        "#3. How do you define different routes with different HTTP methods in Flask?\n",
        "\n",
        "from flask import Flask, request\n",
        "app = Flask(__name__)\n",
        "\n",
        "@app.route('/data', methods=['GET', 'POST'])\n",
        "def handle_data():\n",
        "    if request.method == 'POST':\n",
        "        return \"Data Posted!\"\n",
        "    return \"Send a GET or POST request.\""
      ],
      "metadata": {
        "id": "1H0jEEhoU1d4"
      },
      "execution_count": 9,
      "outputs": []
    },
    {
      "cell_type": "code",
      "source": [
        "#4. How do you render HTML templates in Flask?\n",
        "from flask import Flask, render_template_string\n",
        "app = Flask(__name__)\n",
        "\n",
        "@app.route('/')\n",
        "def home():\n",
        "    return render_template_string(\"<h1>Hello {{ name }}</h1>\", name=\"Flask\")\n",
        "\n"
      ],
      "metadata": {
        "id": "dosEWV_dU8AY"
      },
      "execution_count": 10,
      "outputs": []
    },
    {
      "cell_type": "code",
      "source": [
        "#5. How can you generate URLs for routes in Flask using url_for?\n",
        "\n",
        "from flask import Flask, url_for\n",
        "app = Flask(__name__)\n",
        "\n",
        "@app.route('/')\n",
        "def home():\n",
        "    return f\"Go to {url_for('hello')}\"\n",
        "\n",
        "@app.route('/hello')\n",
        "def hello():\n",
        "    return \"Hello Page\""
      ],
      "metadata": {
        "id": "xOT-ihRaVEqE"
      },
      "execution_count": 11,
      "outputs": []
    },
    {
      "cell_type": "code",
      "source": [
        "#6. How do you handle forms in Flask?\n",
        "\n",
        "from flask import Flask, request, render_template_string\n",
        "app = Flask(__name__)\n",
        "\n",
        "@app.route('/', methods=['GET', 'POST'])\n",
        "def form():\n",
        "    if request.method == 'POST':\n",
        "        name = request.form['name']\n",
        "        return f\"Hello, {name}!\"\n",
        "    return render_template_string('''<form method=\"post\">\n",
        "        Name: <input type=\"text\" name=\"name\">\n",
        "        <input type=\"submit\">\n",
        "    </form>''')"
      ],
      "metadata": {
        "id": "ihKzrA9RVUSe"
      },
      "execution_count": 12,
      "outputs": []
    },
    {
      "cell_type": "code",
      "source": [
        "#7. How can you validate form data in Flask?\n",
        "\n",
        "from flask import Flask, request\n",
        "app = Flask(__name__)\n",
        "\n",
        "@app.route('/', methods=['POST'])\n",
        "def validate():\n",
        "    name = request.form.get('name')\n",
        "    if not name:\n",
        "        return \"Name is required\", 400\n",
        "    return f\"Welcome, {name}!\""
      ],
      "metadata": {
        "id": "0n-oOA1pVZpc"
      },
      "execution_count": 13,
      "outputs": []
    },
    {
      "cell_type": "code",
      "source": [
        "#8. How do you manage sessions in Flask?\n",
        "\n",
        "from flask import Flask, session\n",
        "app = Flask(__name__)\n",
        "app.secret_key = 'secret123'\n",
        "\n",
        "@app.route('/')\n",
        "def set_session():\n",
        "    session['user'] = 'admin'\n",
        "    return \"Session Set\"\n",
        "\n",
        "@app.route('/get')\n",
        "def get_session():\n",
        "    return f\"User: {session.get('user')}\""
      ],
      "metadata": {
        "id": "CPt9ZihWVe1Z"
      },
      "execution_count": 15,
      "outputs": []
    },
    {
      "cell_type": "code",
      "source": [
        "#9. How do you redirect to a different route in Flask?\n",
        "\n",
        "from flask import Flask, redirect, url_for\n",
        "app = Flask(__name__)\n",
        "\n",
        "@app.route('/')\n",
        "def home():\n",
        "    return redirect(url_for('hello'))\n",
        "\n",
        "@app.route('/hello')\n",
        "def hello():\n",
        "    return \"Redirected here!\""
      ],
      "metadata": {
        "id": "dbzQZjeQVjF7"
      },
      "execution_count": 16,
      "outputs": []
    },
    {
      "cell_type": "code",
      "source": [
        "#10. How do you handle errors in Flask (e.g., 404)?\n",
        "\n",
        "@app.errorhandler(404)\n",
        "def not_found(e):\n",
        "    return \"Page not found\", 404\n"
      ],
      "metadata": {
        "id": "V2K-31hzVxEd"
      },
      "execution_count": 17,
      "outputs": []
    },
    {
      "cell_type": "code",
      "source": [
        "#11. How do you structure a Flask app using Blueprints?\n",
        "\n",
        "from flask import Flask, Blueprint\n",
        "\n",
        "bp = Blueprint('bp', __name__)\n",
        "\n",
        "@bp.route('/bp')\n",
        "def bp_home():\n",
        "    return \"Hello from Blueprint!\"\n",
        "\n",
        "app = Flask(__name__)\n",
        "app.register_blueprint(bp)"
      ],
      "metadata": {
        "id": "6qST7XBpV1pb"
      },
      "execution_count": 18,
      "outputs": []
    },
    {
      "cell_type": "code",
      "source": [
        "#12. How do you define a custom Jinja filter in Flask?\n",
        "\n",
        "@app.template_filter('reverse')\n",
        "def reverse_filter(s):\n",
        "    return s[::-1]\n",
        "\n",
        "@app.route('/')\n",
        "def use_filter():\n",
        "    return render_template_string(\"{{ 'Flask'|reverse }}\")"
      ],
      "metadata": {
        "id": "6XbCuvqrV8KR"
      },
      "execution_count": 19,
      "outputs": []
    },
    {
      "cell_type": "code",
      "source": [
        "#13. How can you redirect with query parameters in Flask?\n",
        "\n",
        "from flask import Flask, redirect, url_for\n",
        "app = Flask(__name__)\n",
        "\n",
        "@app.route('/')\n",
        "def home():\n",
        "    return redirect(url_for('hello', name='Flask'))\n",
        "\n",
        "@app.route('/hello')\n",
        "def hello():\n",
        "    from flask import request\n",
        "    return f\"Hello {request.args.get('name')}\""
      ],
      "metadata": {
        "id": "8k493n1KWAB-"
      },
      "execution_count": 20,
      "outputs": []
    },
    {
      "cell_type": "code",
      "source": [
        "#14. How do you return JSON responses in Flask?\n",
        "\n",
        "from flask import Flask, jsonify\n",
        "app = Flask(__name__)\n",
        "\n",
        "@app.route('/json')\n",
        "def return_json():\n",
        "    return jsonify({\"name\": \"Flask\", \"type\": \"Framework\"})"
      ],
      "metadata": {
        "id": "dqf44N0OWD2-"
      },
      "execution_count": 21,
      "outputs": []
    },
    {
      "cell_type": "code",
      "source": [
        "#15. How do you capture URL parameters in Flask?\n",
        "\n",
        "@app.route('/user/<username>')\n",
        "def show_user(username):\n",
        "    return f\"User: {username}\""
      ],
      "metadata": {
        "id": "utmD2YPYWItj"
      },
      "execution_count": 22,
      "outputs": []
    }
  ]
}